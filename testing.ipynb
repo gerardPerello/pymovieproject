{
 "cells": [
  {
   "cell_type": "code",
   "execution_count": 5,
   "metadata": {},
   "outputs": [],
   "source": [
    "import snowflake.connector \n",
    "\n",
    "conn = snowflake.connector.connect(\n",
    "user='gerardtest', \n",
    "password='Nimbus.Academy.98765-', \n",
    "account='qd97453.eu-central-1',\n",
    "warehouse='compute_wh', \n",
    "database='testing_db', schema='public' ) "
   ]
  },
  {
   "cell_type": "code",
   "execution_count": 1,
   "metadata": {},
   "outputs": [
    {
     "name": "stdout",
     "output_type": "stream",
     "text": [
      "{'success': True, 'terms': 'https://currencylayer.com/terms', 'privacy': 'https://currencylayer.com/privacy', 'timestamp': 1696319524, 'source': 'USD', 'quotes': {'USDEUR': 0.95425, 'USDGBP': 0.82792, 'USDCAD': 1.370701, 'USDPLN': 4.400737}}\n"
     ]
    }
   ],
   "source": [
    "import requests\n",
    "\n",
    "\n",
    "# Define the API URL\n",
    "url = \"http://apilayer.net/api/live\"\n",
    "\n",
    "params = {\n",
    "    \"access_key\": \"b3f26ec6e245adfd20b78d596e16a343\",\n",
    "    \"currencies\": \"EUR,GBP,CAD,PLN\",\n",
    "    \"source\": \"USD\",\n",
    "    \"format\": \"1\"\n",
    "}\n",
    "\n",
    "# Make the GET request\n",
    "response = requests.get(url, params=params)\n",
    "\n",
    "# Check if the request was successful\n",
    "if response.status_code == 200:\n",
    "    data = response.json()\n",
    "    # Now 'data' contains the JSON response from the API\n",
    "    print(data)\n",
    "else:\n",
    "    print(\"Request failed with status code:\", response.status_code)"
   ]
  },
  {
   "cell_type": "code",
   "execution_count": 8,
   "metadata": {},
   "outputs": [
    {
     "name": "stdout",
     "output_type": "stream",
     "text": [
      "     sepal length  sepal width  petal length  petal width species\n",
      "0             5.1          3.5           1.4          0.2       0\n",
      "1             4.9          3.0           1.4          0.2       0\n",
      "2             4.7          3.2           1.3          0.2       0\n",
      "3             4.6          3.1           1.5          0.2       0\n",
      "4             5.0          3.6           1.4          0.2       0\n",
      "..            ...          ...           ...          ...     ...\n",
      "145           6.7          3.0           5.2          2.3       2\n",
      "146           6.3          2.5           5.0          1.9       2\n",
      "147           6.5          3.0           5.2          2.0       2\n",
      "148           6.2          3.4           5.4          2.3       2\n",
      "149           5.9          3.0           5.1          1.8       2\n",
      "\n",
      "[150 rows x 5 columns]\n"
     ]
    }
   ],
   "source": [
    "import pandas as pd\n",
    "\n",
    "from sklearn.datasets import load_iris\n",
    "\n",
    "\n",
    "X, Y = load_iris(return_X_y=True)\n",
    "\n",
    "iris = pd.DataFrame(data=X, columns=[\"sepal length\", \"sepal width\", \"petal length\", \"petal width\"])\n",
    "\n",
    "iris[\"species\"] = Y\n",
    "iris[\"species\"] = pd.cut(iris[\"species\"], bins=3, labels=range(3))\n",
    "\n",
    "print(iris)\n"
   ]
  },
  {
   "cell_type": "code",
   "execution_count": 6,
   "metadata": {},
   "outputs": [
    {
     "name": "stdout",
     "output_type": "stream",
     "text": [
      "  Currency  ExchangeRate\n",
      "0   USDEUR      0.954250\n",
      "1   USDGBP      0.827920\n",
      "2   USDCAD      1.370701\n",
      "3   USDPLN      4.400737\n"
     ]
    }
   ],
   "source": [
    "import pandas as pd\n",
    "\n",
    "exchange_rates = data.get('quotes', {})\n",
    "\n",
    "    \n",
    "# Create a DataFrame from the exchange rates data\n",
    "df = pd.DataFrame(exchange_rates.items(), columns=['Currency', 'ExchangeRate'])\n",
    "    \n",
    "# Print the DataFrame\n",
    "print(df)\n"
   ]
  },
  {
   "cell_type": "code",
   "execution_count": 9,
   "metadata": {},
   "outputs": [],
   "source": [
    "response = '{ \"users\": [ { \"id\": 1, \"name\": \"Alice\", \"email\": \"alice@example.com\" }, { \"id\": 2, \"name\": \"Bob\", \"email\": \"bob@example.com\" } ] }'"
   ]
  },
  {
   "cell_type": "code",
   "execution_count": 10,
   "metadata": {},
   "outputs": [],
   "source": [
    "# Create or use an existing table to hold the JSON \n",
    "table_name = \"first_uploaded_data\" \n",
    "cur = conn.cursor() \n",
    "cur.execute(f\"CREATE TABLE IF NOT EXISTS {table_name} (DATA VARIANT);\") \n",
    "# Insert the JSON data into the table \n",
    "json_str = response.replace(\"'\", \"''\") #response.text.replace(\"'\", \"''\") # Escape single quotes \n",
    "cur.execute(f\"INSERT INTO {table_name} SELECT PARSE_JSON(COLUMN1) FROM VALUES ('{json_str}');\") \n",
    "# Close the connection \n",
    "cur.close() \n",
    "conn.close() "
   ]
  }
 ],
 "metadata": {
  "kernelspec": {
   "display_name": ".venv",
   "language": "python",
   "name": "python3"
  },
  "language_info": {
   "codemirror_mode": {
    "name": "ipython",
    "version": 3
   },
   "file_extension": ".py",
   "mimetype": "text/x-python",
   "name": "python",
   "nbconvert_exporter": "python",
   "pygments_lexer": "ipython3",
   "version": "3.11.5"
  },
  "orig_nbformat": 4
 },
 "nbformat": 4,
 "nbformat_minor": 2
}
