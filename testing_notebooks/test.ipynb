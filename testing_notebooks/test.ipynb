{
 "cells": [
  {
   "cell_type": "code",
   "execution_count": 7,
   "metadata": {},
   "outputs": [
    {
     "ename": "ImportError",
     "evalue": "cannot import name 'credentials' from 'credentials' (c:\\Users\\gerar\\OneDrive\\Escritorio\\WORK\\pymovieproject\\testing_notebooks\\../credentials\\credentials.py)",
     "output_type": "error",
     "traceback": [
      "\u001b[1;31m---------------------------------------------------------------------------\u001b[0m",
      "\u001b[1;31mImportError\u001b[0m                               Traceback (most recent call last)",
      "\u001b[1;32mc:\\Users\\gerar\\OneDrive\\Escritorio\\WORK\\pymovieproject\\testing_notebooks\\test.ipynb Cell 1\u001b[0m line \u001b[0;36m1\n\u001b[0;32m      <a href='vscode-notebook-cell:/c%3A/Users/gerar/OneDrive/Escritorio/WORK/pymovieproject/testing_notebooks/test.ipynb#W0sZmlsZQ%3D%3D?line=6'>7</a>\u001b[0m \u001b[39mimport\u001b[39;00m \u001b[39msys\u001b[39;00m\n\u001b[0;32m      <a href='vscode-notebook-cell:/c%3A/Users/gerar/OneDrive/Escritorio/WORK/pymovieproject/testing_notebooks/test.ipynb#W0sZmlsZQ%3D%3D?line=7'>8</a>\u001b[0m sys\u001b[39m.\u001b[39mpath\u001b[39m.\u001b[39mappend(\u001b[39m'\u001b[39m\u001b[39m../credentials\u001b[39m\u001b[39m'\u001b[39m)\n\u001b[1;32m---> <a href='vscode-notebook-cell:/c%3A/Users/gerar/OneDrive/Escritorio/WORK/pymovieproject/testing_notebooks/test.ipynb#W0sZmlsZQ%3D%3D?line=9'>10</a>\u001b[0m \u001b[39mfrom\u001b[39;00m \u001b[39mcredentials\u001b[39;00m \u001b[39mimport\u001b[39;00m credentials\n\u001b[0;32m     <a href='vscode-notebook-cell:/c%3A/Users/gerar/OneDrive/Escritorio/WORK/pymovieproject/testing_notebooks/test.ipynb#W0sZmlsZQ%3D%3D?line=10'>11</a>\u001b[0m \u001b[39m# Get \u001b[39;00m\n\u001b[0;32m     <a href='vscode-notebook-cell:/c%3A/Users/gerar/OneDrive/Escritorio/WORK/pymovieproject/testing_notebooks/test.ipynb#W0sZmlsZQ%3D%3D?line=11'>12</a>\u001b[0m file_path \u001b[39m=\u001b[39m \u001b[39m'\u001b[39m\u001b[39m../data/currencies/currencies.json\u001b[39m\u001b[39m'\u001b[39m\n",
      "\u001b[1;31mImportError\u001b[0m: cannot import name 'credentials' from 'credentials' (c:\\Users\\gerar\\OneDrive\\Escritorio\\WORK\\pymovieproject\\testing_notebooks\\../credentials\\credentials.py)"
     ]
    }
   ],
   "source": [
    "import requests\n",
    "import json\n",
    "import datetime as dt\n",
    "import pandas as pd\n",
    "from time import sleep\n",
    "import os\n",
    "import sys\n",
    "sys.path.append('../credentials')\n",
    "\n",
    "# Get \n",
    "file_path = '../data/currencies/currencies.json'\n",
    "df = pd.read_json(file_path)\n",
    "\n",
    "currencies = \"\"\n",
    "for a in df['Code'].values:\n",
    "    currencies += a + \",\"\n",
    "\n",
    "# API URL\n",
    "url = 'http://api.currencylayer.com/historical'\n",
    "\n",
    "start_date = dt.date(2011, 1, 1)\n",
    "end_date = dt.date(2011, 1, 2)\n",
    "delta = dt.timedelta(days=1)\n",
    "\n",
    "data = []\n",
    "while start_date <= end_date:\n",
    "    print(start_date)\n",
    "    \n",
    "    params = {\n",
    "        'access_key' : os.getenv('API_KEY'),\n",
    "        'source' : 'USD',\n",
    "        'currencies' : currencies,\n",
    "        'date' : start_date\n",
    "    }\n",
    "\n",
    "    response = requests.get(url, params=params)\n",
    "\n",
    "    if response.status_code == 200:\n",
    "        json_data = response.json()\n",
    "        data.append(json_data)\n",
    "    else:\n",
    "        print('Error connecting to the API.')\n",
    "        print(response)\n",
    "\n",
    "    start_date += delta\n",
    "\n",
    "    sleep(1)\n",
    "\n",
    "print(pd.json_normalize(data))"
   ]
  },
  {
   "cell_type": "code",
   "execution_count": null,
   "metadata": {},
   "outputs": [],
   "source": []
  },
  {
   "cell_type": "code",
   "execution_count": 1,
   "metadata": {},
   "outputs": [
    {
     "ename": "NameError",
     "evalue": "name 'data' is not defined",
     "output_type": "error",
     "traceback": [
      "\u001b[1;31m---------------------------------------------------------------------------\u001b[0m",
      "\u001b[1;31mNameError\u001b[0m                                 Traceback (most recent call last)",
      "\u001b[1;32mc:\\Users\\gerar\\OneDrive\\Escritorio\\WORK\\pymovieproject\\testing_notebooks\\test.ipynb Cell 2\u001b[0m line \u001b[0;36m1\n\u001b[1;32m----> <a href='vscode-notebook-cell:/c%3A/Users/gerar/OneDrive/Escritorio/WORK/pymovieproject/testing_notebooks/test.ipynb#W1sZmlsZQ%3D%3D?line=0'>1</a>\u001b[0m data\n",
      "\u001b[1;31mNameError\u001b[0m: name 'data' is not defined"
     ]
    }
   ],
   "source": [
    "data"
   ]
  },
  {
   "cell_type": "code",
   "execution_count": 40,
   "metadata": {},
   "outputs": [
    {
     "data": {
      "text/html": [
       "<div>\n",
       "<style scoped>\n",
       "    .dataframe tbody tr th:only-of-type {\n",
       "        vertical-align: middle;\n",
       "    }\n",
       "\n",
       "    .dataframe tbody tr th {\n",
       "        vertical-align: top;\n",
       "    }\n",
       "\n",
       "    .dataframe thead th {\n",
       "        text-align: right;\n",
       "    }\n",
       "</style>\n",
       "<table border=\"1\" class=\"dataframe\">\n",
       "  <thead>\n",
       "    <tr style=\"text-align: right;\">\n",
       "      <th></th>\n",
       "      <th>timestamp</th>\n",
       "      <th>date</th>\n",
       "      <th>USDAED</th>\n",
       "      <th>USDAFN</th>\n",
       "      <th>USDALL</th>\n",
       "      <th>USDAMD</th>\n",
       "      <th>USDANG</th>\n",
       "      <th>USDAOA</th>\n",
       "      <th>USDARS</th>\n",
       "      <th>USDAUD</th>\n",
       "      <th>...</th>\n",
       "      <th>USDVUV</th>\n",
       "      <th>USDWST</th>\n",
       "      <th>USDXAF</th>\n",
       "      <th>USDXCD</th>\n",
       "      <th>USDXDR</th>\n",
       "      <th>USDXOF</th>\n",
       "      <th>USDXPF</th>\n",
       "      <th>USDYER</th>\n",
       "      <th>USDZAR</th>\n",
       "      <th>USDZMK</th>\n",
       "    </tr>\n",
       "  </thead>\n",
       "  <tbody>\n",
       "    <tr>\n",
       "      <th>0</th>\n",
       "      <td>1293926399</td>\n",
       "      <td>2011-01-01</td>\n",
       "      <td>3.672725</td>\n",
       "      <td>43.022128</td>\n",
       "      <td>104.57501</td>\n",
       "      <td>363.231524</td>\n",
       "      <td>1.79075</td>\n",
       "      <td>92.405819</td>\n",
       "      <td>3.970868</td>\n",
       "      <td>0.980253</td>\n",
       "      <td>...</td>\n",
       "      <td>91.988865</td>\n",
       "      <td>2.33672</td>\n",
       "      <td>498.50615</td>\n",
       "      <td>2.691726</td>\n",
       "      <td>0.649095</td>\n",
       "      <td>493.00615</td>\n",
       "      <td>90.053383</td>\n",
       "      <td>213.87153</td>\n",
       "      <td>6.622288</td>\n",
       "      <td>4797.421008</td>\n",
       "    </tr>\n",
       "  </tbody>\n",
       "</table>\n",
       "<p>1 rows × 154 columns</p>\n",
       "</div>"
      ],
      "text/plain": [
       "    timestamp        date    USDAED     USDAFN     USDALL      USDAMD  \\\n",
       "0  1293926399  2011-01-01  3.672725  43.022128  104.57501  363.231524   \n",
       "\n",
       "    USDANG     USDAOA    USDARS    USDAUD  ...     USDVUV   USDWST     USDXAF  \\\n",
       "0  1.79075  92.405819  3.970868  0.980253  ...  91.988865  2.33672  498.50615   \n",
       "\n",
       "     USDXCD    USDXDR     USDXOF     USDXPF     USDYER    USDZAR       USDZMK  \n",
       "0  2.691726  0.649095  493.00615  90.053383  213.87153  6.622288  4797.421008  \n",
       "\n",
       "[1 rows x 154 columns]"
      ]
     },
     "execution_count": 40,
     "metadata": {},
     "output_type": "execute_result"
    }
   ],
   "source": [
    "data2 = data[0]\n",
    "\n",
    "df = pd.DataFrame({\n",
    "    \"timestamp\": [data2[\"timestamp\"]],\n",
    "    \"date\": [data2[\"date\"]],\n",
    "    **data2[\"quotes\"]\n",
    "})\n",
    "\n",
    "df\n"
   ]
  }
 ],
 "metadata": {
  "kernelspec": {
   "display_name": "base",
   "language": "python",
   "name": "python3"
  },
  "language_info": {
   "codemirror_mode": {
    "name": "ipython",
    "version": 3
   },
   "file_extension": ".py",
   "mimetype": "text/x-python",
   "name": "python",
   "nbconvert_exporter": "python",
   "pygments_lexer": "ipython3",
   "version": "3.11.5"
  },
  "orig_nbformat": 4
 },
 "nbformat": 4,
 "nbformat_minor": 2
}
