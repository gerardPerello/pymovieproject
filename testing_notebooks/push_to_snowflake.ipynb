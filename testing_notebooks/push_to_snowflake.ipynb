{
 "cells": [
  {
   "cell_type": "code",
   "execution_count": 3,
   "metadata": {},
   "outputs": [
    {
     "ename": "ImportError",
     "evalue": "attempted relative import with no known parent package",
     "output_type": "error",
     "traceback": [
      "\u001b[1;31m---------------------------------------------------------------------------\u001b[0m",
      "\u001b[1;31mImportError\u001b[0m                               Traceback (most recent call last)",
      "\u001b[1;32mc:\\Users\\edrae\\OneDrive\\Desktop\\pymovieproject\\testing_notebooks\\push_to_snowflake.ipynb Cell 1\u001b[0m line \u001b[0;36m3\n\u001b[0;32m      <a href='vscode-notebook-cell:/c%3A/Users/edrae/OneDrive/Desktop/pymovieproject/testing_notebooks/push_to_snowflake.ipynb#W0sZmlsZQ%3D%3D?line=0'>1</a>\u001b[0m \u001b[39mfrom\u001b[39;00m \u001b[39mtime\u001b[39;00m \u001b[39mimport\u001b[39;00m sleep\n\u001b[1;32m----> <a href='vscode-notebook-cell:/c%3A/Users/edrae/OneDrive/Desktop/pymovieproject/testing_notebooks/push_to_snowflake.ipynb#W0sZmlsZQ%3D%3D?line=2'>3</a>\u001b[0m \u001b[39mfrom\u001b[39;00m \u001b[39m.\u001b[39;00m\u001b[39m.\u001b[39;00m\u001b[39mscripts\u001b[39;00m \u001b[39mimport\u001b[39;00m api_connection\n\u001b[0;32m      <a href='vscode-notebook-cell:/c%3A/Users/edrae/OneDrive/Desktop/pymovieproject/testing_notebooks/push_to_snowflake.ipynb#W0sZmlsZQ%3D%3D?line=3'>4</a>\u001b[0m \u001b[39mimport\u001b[39;00m \u001b[39mdatetime\u001b[39;00m \u001b[39mas\u001b[39;00m \u001b[39mdt\u001b[39;00m\n\u001b[0;32m      <a href='vscode-notebook-cell:/c%3A/Users/edrae/OneDrive/Desktop/pymovieproject/testing_notebooks/push_to_snowflake.ipynb#W0sZmlsZQ%3D%3D?line=4'>5</a>\u001b[0m \u001b[39mimport\u001b[39;00m \u001b[39mpandas\u001b[39;00m \u001b[39mas\u001b[39;00m \u001b[39mpd\u001b[39;00m\n",
      "\u001b[1;31mImportError\u001b[0m: attempted relative import with no known parent package"
     ]
    }
   ],
   "source": [
    "from time import sleep\n",
    "\n",
    "from ..scripts import api_connection\n",
    "import datetime as dt\n",
    "import pandas as pd\n",
    "from ..credentials import credentials\n",
    "from ..scripts import snowflake_connection as snw\n",
    "import streamlit as st\n",
    "import os"
   ]
  },
  {
   "cell_type": "code",
   "execution_count": 1,
   "metadata": {},
   "outputs": [
    {
     "ename": "NameError",
     "evalue": "name 'pd' is not defined",
     "output_type": "error",
     "traceback": [
      "\u001b[1;31m---------------------------------------------------------------------------\u001b[0m",
      "\u001b[1;31mNameError\u001b[0m                                 Traceback (most recent call last)",
      "\u001b[1;32mc:\\Users\\edrae\\OneDrive\\Desktop\\pymovieproject\\testing_notebooks\\push_to_snowflake.ipynb Cell 2\u001b[0m line \u001b[0;36m2\n\u001b[0;32m      <a href='vscode-notebook-cell:/c%3A/Users/edrae/OneDrive/Desktop/pymovieproject/testing_notebooks/push_to_snowflake.ipynb#W2sZmlsZQ%3D%3D?line=0'>1</a>\u001b[0m file_path \u001b[39m=\u001b[39m \u001b[39m\"\u001b[39m\u001b[39m../data/currencies/currencies.json\u001b[39m\u001b[39m\"\u001b[39m\n\u001b[1;32m----> <a href='vscode-notebook-cell:/c%3A/Users/edrae/OneDrive/Desktop/pymovieproject/testing_notebooks/push_to_snowflake.ipynb#W2sZmlsZQ%3D%3D?line=1'>2</a>\u001b[0m df \u001b[39m=\u001b[39m pd\u001b[39m.\u001b[39mread_json(file_path)\n\u001b[0;32m      <a href='vscode-notebook-cell:/c%3A/Users/edrae/OneDrive/Desktop/pymovieproject/testing_notebooks/push_to_snowflake.ipynb#W2sZmlsZQ%3D%3D?line=2'>3</a>\u001b[0m df\n",
      "\u001b[1;31mNameError\u001b[0m: name 'pd' is not defined"
     ]
    }
   ],
   "source": [
    "file_path = \"../data/currencies/currencies.json\"\n",
    "df = pd.read_json(file_path)\n",
    "df"
   ]
  },
  {
   "cell_type": "code",
   "execution_count": null,
   "metadata": {},
   "outputs": [],
   "source": [
    "\n",
    "def get_currencies_names(n=-1):\n",
    "    # Get \n",
    "\n",
    "    currencies_list = df['Code'].to_list()\n",
    "\n",
    "    if n != -1:\n",
    "        random_items = random.sample(currencies_list, n)\n",
    "        currencies_list = random_items\n",
    "    currencies = \"\"\n",
    "    for a in currencies_list:\n",
    "        currencies += a + \",\"\n",
    "\n",
    "    return currencies\n",
    "\n",
    "\n",
    "def define_params(date, currencies=\"EUR,GBP,CAD,PLN\"):\n",
    "    params = {\n",
    "\n",
    "        \"access_key\": os.getenv('API_KEY'),\n",
    "        \"currencies\": currencies,\n",
    "        \"source\": \"USD\",\n",
    "        \"format\": \"1\",\n",
    "        'date': date\n",
    "    }\n",
    "\n",
    "    return params\n",
    "\n",
    "\n",
    "def get(url, params, print_=False):\n",
    "    # Make the GET request\n",
    "    response = requests.get(url, params=params)\n",
    "\n",
    "    # Check if the request was successful\n",
    "    if response.status_code == 200:\n",
    "\n",
    "        data = response.json()\n",
    "        # Now 'data' contains the JSON response from the API\n",
    "\n",
    "        # json_str = response.replace(\"'\", \"''\") # response.text.replace(\"'\", \"''\") # Escape single quotes\n",
    "\n",
    "        if print_:\n",
    "            print(data)\n",
    "\n",
    "        return data\n",
    "    else:\n",
    "\n",
    "        print(\"Request failed with status code:\", response.status_code)\n",
    "\n",
    "\n",
    "def format_data(initial_json_data, save_ = False):\n",
    "\n",
    "    data_list = []\n",
    "\n",
    "    for data in initial_json_data:\n",
    "        # Create a dictionary for each item\n",
    "        item_data = {\n",
    "            \"timestamp\": data[\"timestamp\"],\n",
    "            \"date\": data[\"date\"],\n",
    "            **data[\"quotes\"]\n",
    "        }\n",
    "\n",
    "        # Append the item dictionary to the list\n",
    "        data_list.append(item_data)\n",
    "\n",
    "    # Create a DataFrame from the list of dictionaries\n",
    "    df = pd.DataFrame(data_list)\n",
    "\n",
    "    if save_:\n",
    "\n",
    "        time = datetime.datetime.now()\n",
    "        df.to_json(f'./data/api_currencies/{time}_output.json')\n",
    "\n",
    "    return df\n"
   ]
  }
 ],
 "metadata": {
  "kernelspec": {
   "display_name": "Python 3",
   "language": "python",
   "name": "python3"
  },
  "language_info": {
   "codemirror_mode": {
    "name": "ipython",
    "version": 3
   },
   "file_extension": ".py",
   "mimetype": "text/x-python",
   "name": "python",
   "nbconvert_exporter": "python",
   "pygments_lexer": "ipython3",
   "version": "3.11.6"
  },
  "orig_nbformat": 4
 },
 "nbformat": 4,
 "nbformat_minor": 2
}
