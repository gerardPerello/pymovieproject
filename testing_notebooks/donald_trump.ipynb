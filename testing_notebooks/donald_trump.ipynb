{
 "cells": [
  {
   "cell_type": "code",
   "execution_count": null,
   "metadata": {},
   "outputs": [],
   "source": [
    "import requests\n",
    "import json\n",
    "import datetime as dt\n",
    "import pandas as pd\n",
    "from time import sleep\n",
    "import os"
   ]
  },
  {
   "cell_type": "code",
   "execution_count": null,
   "metadata": {},
   "outputs": [],
   "source": [
    "$ curl --request GET \\\n",
    "       --url 'https://api.tronalddump.io/random/quote' \\\n",
    "       --header 'Accept: application/hal+json'"
   ]
  },
  {
   "cell_type": "code",
   "execution_count": null,
   "metadata": {},
   "outputs": [],
   "source": [
    "params = {\n",
    "    'access_key' : os.getenv('API_KEY'),\n",
    "    'source' : 'USD',\n",
    "    'currencies' : currencies,\n",
    "    'date' : start_date\n",
    "}\n",
    "\n",
    "response = requests.get(url, params=params)"
   ]
  }
 ],
 "metadata": {
  "language_info": {
   "name": "python"
  },
  "orig_nbformat": 4
 },
 "nbformat": 4,
 "nbformat_minor": 2
}
